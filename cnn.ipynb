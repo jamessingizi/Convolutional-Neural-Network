{
 "cells": [
  {
   "cell_type": "markdown",
   "id": "naughty-montreal",
   "metadata": {},
   "source": [
    "### Importing Libraries"
   ]
  },
  {
   "cell_type": "code",
   "execution_count": 4,
   "id": "informative-better",
   "metadata": {
    "tags": []
   },
   "outputs": [],
   "source": [
    "import tensorflow as tf\n",
    "from keras.preprocessing.image import ImageDataGenerator"
   ]
  },
  {
   "cell_type": "code",
   "execution_count": 5,
   "id": "equivalent-theta",
   "metadata": {
    "tags": []
   },
   "outputs": [
    {
     "data": {
      "text/plain": [
       "'2.3.0'"
      ]
     },
     "execution_count": 5,
     "metadata": {},
     "output_type": "execute_result"
    }
   ],
   "source": [
    "tf.__version__"
   ]
  },
  {
   "cell_type": "markdown",
   "id": "stylish-living",
   "metadata": {},
   "source": [
    "### Data Preprocessing"
   ]
  },
  {
   "cell_type": "markdown",
   "id": "conservative-chemical",
   "metadata": {},
   "source": [
    "#### Preprocessing trainingset\n",
    "- preprocessing training set helps prevent overfitting\n",
    "- generatig new images with feature scaling (rescale param)\n",
    "- data augmentation transformations: i) shear ii) zoom iii) horizontal flip\n",
    "\n",
    "**taget_size is the final image size when they get fed in to the CNN (Bigger images are slower)**"
   ]
  },
  {
   "cell_type": "code",
   "execution_count": 17,
   "id": "bigger-airplane",
   "metadata": {
    "tags": []
   },
   "outputs": [
    {
     "name": "stdout",
     "output_type": "stream",
     "text": [
      "Found 8000 images belonging to 2 classes.\n"
     ]
    }
   ],
   "source": [
    "train_datagen = ImageDataGenerator(\n",
    "        rescale=1./255,\n",
    "        shear_range=0.2,\n",
    "        zoom_range=0.2,\n",
    "        horizontal_flip=True)\n",
    "\n",
    "training_set = train_datagen.flow_from_directory(\n",
    "        'dataset/training_set',\n",
    "        target_size=(64, 64),\n",
    "        batch_size=32,\n",
    "        class_mode='binary')"
   ]
  },
  {
   "cell_type": "markdown",
   "id": "conditional-alaska",
   "metadata": {},
   "source": [
    "#### Preprocessing the test set\n",
    "\n",
    "- Only do feature scaling\n",
    "- dont apply transformations"
   ]
  },
  {
   "cell_type": "code",
   "execution_count": 18,
   "id": "advisory-makeup",
   "metadata": {},
   "outputs": [
    {
     "name": "stdout",
     "output_type": "stream",
     "text": [
      "Found 2000 images belonging to 2 classes.\n"
     ]
    }
   ],
   "source": [
    "test_datagen = ImageDataGenerator(rescale=1./255)\n",
    "\n",
    "test_set = test_datagen.flow_from_directory(\n",
    "        'dataset/test_set',\n",
    "        target_size=(64, 64),\n",
    "        batch_size=32,\n",
    "        class_mode='binary')"
   ]
  },
  {
   "cell_type": "markdown",
   "id": "fiscal-exclusion",
   "metadata": {},
   "source": [
    "### Building the CNN model"
   ]
  },
  {
   "cell_type": "markdown",
   "id": "muslim-explosion",
   "metadata": {},
   "source": [
    "##### Initialising the CNN model"
   ]
  },
  {
   "cell_type": "code",
   "execution_count": 19,
   "id": "virgin-dressing",
   "metadata": {},
   "outputs": [],
   "source": [
    "cnn = tf.keras.models.Sequential()"
   ]
  },
  {
   "cell_type": "markdown",
   "id": "signal-aerospace",
   "metadata": {},
   "source": [
    "##### Add Convolution layer"
   ]
  },
  {
   "cell_type": "code",
   "execution_count": 20,
   "id": "tight-shower",
   "metadata": {},
   "outputs": [],
   "source": [
    "cnn.add(tf.keras.layers.Conv2D(filters=32, kernel_size=3, activation='relu',input_shape=[64,64,3]))"
   ]
  },
  {
   "cell_type": "markdown",
   "id": "blind-league",
   "metadata": {},
   "source": [
    "##### Add Pooling Layer to convolutional layer (max pooling)"
   ]
  },
  {
   "cell_type": "code",
   "execution_count": 21,
   "id": "fitting-nitrogen",
   "metadata": {},
   "outputs": [],
   "source": [
    "cnn.add(tf.keras.layers.MaxPool2D(pool_size=2, strides=2))"
   ]
  },
  {
   "cell_type": "markdown",
   "id": "bottom-elevation",
   "metadata": {},
   "source": [
    "##### Add second Convolutional Layer"
   ]
  },
  {
   "cell_type": "code",
   "execution_count": 22,
   "id": "ultimate-consumption",
   "metadata": {},
   "outputs": [],
   "source": [
    "cnn.add(tf.keras.layers.Conv2D(filters=32, kernel_size=3, activation='relu'))\n",
    "cnn.add(tf.keras.layers.MaxPool2D(pool_size=2, strides=2))"
   ]
  },
  {
   "cell_type": "markdown",
   "id": "mathematical-measure",
   "metadata": {},
   "source": [
    "##### Add flattening layer"
   ]
  },
  {
   "cell_type": "code",
   "execution_count": 23,
   "id": "joined-nevada",
   "metadata": {},
   "outputs": [],
   "source": [
    "cnn.add(tf.keras.layers.Flatten())"
   ]
  },
  {
   "cell_type": "markdown",
   "id": "french-lecture",
   "metadata": {},
   "source": [
    "#### Add Fully Connected Layer"
   ]
  },
  {
   "cell_type": "code",
   "execution_count": 24,
   "id": "stylish-roads",
   "metadata": {},
   "outputs": [],
   "source": [
    "#units refers to hidden neurons\n",
    "cnn.add(tf.keras.layers.Dense(units=128, activation='relu'))"
   ]
  },
  {
   "cell_type": "markdown",
   "id": "resident-checkout",
   "metadata": {},
   "source": [
    "#### Output layer"
   ]
  },
  {
   "cell_type": "code",
   "execution_count": 25,
   "id": "authentic-injury",
   "metadata": {},
   "outputs": [],
   "source": [
    "#units =1 because this is a binary classification\n",
    "cnn.add(tf.keras.layers.Dense(units=1, activation='sigmoid'))"
   ]
  },
  {
   "cell_type": "markdown",
   "id": "compliant-denial",
   "metadata": {},
   "source": [
    "### Compiling the CNN"
   ]
  },
  {
   "cell_type": "code",
   "execution_count": 26,
   "id": "crazy-quebec",
   "metadata": {},
   "outputs": [],
   "source": [
    "cnn.compile(optimizer='adam', loss='binary_crossentropy', metrics=['accuracy'])"
   ]
  },
  {
   "cell_type": "markdown",
   "id": "numerous-artist",
   "metadata": {},
   "source": [
    "#### Train the CNN\n",
    "- train on training set and evaluating on the test set"
   ]
  },
  {
   "cell_type": "code",
   "execution_count": 27,
   "id": "utility-highland",
   "metadata": {},
   "outputs": [
    {
     "name": "stdout",
     "output_type": "stream",
     "text": [
      "Epoch 1/25\n",
      "250/250 [==============================] - 164s 655ms/step - loss: 0.6678 - accuracy: 0.5794 - val_loss: 0.6396 - val_accuracy: 0.6655\n",
      "Epoch 2/25\n",
      "250/250 [==============================] - 40s 159ms/step - loss: 0.5990 - accuracy: 0.6762 - val_loss: 0.5561 - val_accuracy: 0.7285\n",
      "Epoch 3/25\n",
      "250/250 [==============================] - 41s 165ms/step - loss: 0.5586 - accuracy: 0.7126 - val_loss: 0.5258 - val_accuracy: 0.7385\n",
      "Epoch 4/25\n",
      "250/250 [==============================] - 43s 172ms/step - loss: 0.5260 - accuracy: 0.7366 - val_loss: 0.5068 - val_accuracy: 0.7600\n",
      "Epoch 5/25\n",
      "250/250 [==============================] - 43s 172ms/step - loss: 0.4977 - accuracy: 0.7574 - val_loss: 0.4884 - val_accuracy: 0.7630\n",
      "Epoch 6/25\n",
      "250/250 [==============================] - 43s 171ms/step - loss: 0.4780 - accuracy: 0.7738 - val_loss: 0.4813 - val_accuracy: 0.7710\n",
      "Epoch 7/25\n",
      "250/250 [==============================] - 41s 163ms/step - loss: 0.4618 - accuracy: 0.7763 - val_loss: 0.5157 - val_accuracy: 0.7535\n",
      "Epoch 8/25\n",
      "250/250 [==============================] - 39s 158ms/step - loss: 0.4479 - accuracy: 0.7906 - val_loss: 0.5230 - val_accuracy: 0.7505\n",
      "Epoch 9/25\n",
      "250/250 [==============================] - 43s 173ms/step - loss: 0.4333 - accuracy: 0.7928 - val_loss: 0.4655 - val_accuracy: 0.7850\n",
      "Epoch 10/25\n",
      "250/250 [==============================] - 43s 171ms/step - loss: 0.4156 - accuracy: 0.8051 - val_loss: 0.4480 - val_accuracy: 0.7985\n",
      "Epoch 11/25\n",
      "250/250 [==============================] - 42s 168ms/step - loss: 0.4119 - accuracy: 0.8079 - val_loss: 0.4665 - val_accuracy: 0.7920\n",
      "Epoch 12/25\n",
      "250/250 [==============================] - 43s 171ms/step - loss: 0.3908 - accuracy: 0.8213 - val_loss: 0.5187 - val_accuracy: 0.7445\n",
      "Epoch 13/25\n",
      "250/250 [==============================] - 176s 703ms/step - loss: 0.3808 - accuracy: 0.8267 - val_loss: 0.4350 - val_accuracy: 0.8070\n",
      "Epoch 14/25\n",
      "250/250 [==============================] - 163s 651ms/step - loss: 0.3615 - accuracy: 0.8367 - val_loss: 0.4575 - val_accuracy: 0.7915\n",
      "Epoch 15/25\n",
      "250/250 [==============================] - 45s 178ms/step - loss: 0.3485 - accuracy: 0.8457 - val_loss: 0.4745 - val_accuracy: 0.7985\n",
      "Epoch 16/25\n",
      "250/250 [==============================] - 39s 156ms/step - loss: 0.3346 - accuracy: 0.8539 - val_loss: 0.4443 - val_accuracy: 0.7970\n",
      "Epoch 17/25\n",
      "250/250 [==============================] - 39s 156ms/step - loss: 0.3228 - accuracy: 0.8618 - val_loss: 0.5631 - val_accuracy: 0.7845\n",
      "Epoch 18/25\n",
      "250/250 [==============================] - 39s 156ms/step - loss: 0.3107 - accuracy: 0.8674 - val_loss: 0.4901 - val_accuracy: 0.7895\n",
      "Epoch 19/25\n",
      "250/250 [==============================] - 41s 165ms/step - loss: 0.2957 - accuracy: 0.8729 - val_loss: 0.4903 - val_accuracy: 0.7945\n",
      "Epoch 20/25\n",
      "250/250 [==============================] - 40s 161ms/step - loss: 0.2883 - accuracy: 0.8745 - val_loss: 0.4727 - val_accuracy: 0.8040\n",
      "Epoch 21/25\n",
      "250/250 [==============================] - 39s 155ms/step - loss: 0.2672 - accuracy: 0.8856 - val_loss: 0.5269 - val_accuracy: 0.8030\n",
      "Epoch 22/25\n",
      "250/250 [==============================] - 41s 163ms/step - loss: 0.2582 - accuracy: 0.8935 - val_loss: 0.5067 - val_accuracy: 0.7860\n",
      "Epoch 23/25\n",
      "250/250 [==============================] - 41s 163ms/step - loss: 0.2504 - accuracy: 0.8936 - val_loss: 0.5255 - val_accuracy: 0.7985\n",
      "Epoch 24/25\n",
      "250/250 [==============================] - 39s 157ms/step - loss: 0.2350 - accuracy: 0.9024 - val_loss: 0.5284 - val_accuracy: 0.8080\n",
      "Epoch 25/25\n",
      "250/250 [==============================] - 42s 167ms/step - loss: 0.2190 - accuracy: 0.9145 - val_loss: 0.5218 - val_accuracy: 0.8055\n"
     ]
    },
    {
     "data": {
      "text/plain": [
       "<tensorflow.python.keras.callbacks.History at 0x7fc37004f310>"
      ]
     },
     "execution_count": 27,
     "metadata": {},
     "output_type": "execute_result"
    }
   ],
   "source": [
    "cnn.fit(x=training_set, validation_data=test_set, epochs=25)"
   ]
  },
  {
   "cell_type": "markdown",
   "id": "finished-relation",
   "metadata": {},
   "source": [
    "#### Making a single prediction"
   ]
  },
  {
   "cell_type": "code",
   "execution_count": 45,
   "id": "alert-expression",
   "metadata": {},
   "outputs": [
    {
     "name": "stdout",
     "output_type": "stream",
     "text": [
      "{'cats': 0, 'dogs': 1}\n",
      "[[3.485288e-37]]\n",
      "cat\n"
     ]
    }
   ],
   "source": [
    "import numpy as np\n",
    "from keras.preprocessing import image\n",
    "test_image = image.load_img('dataset/single_prediction/cat_or_dog_2.jpg', target_size=(64,64))\n",
    "test_image = image.img_to_array(test_image)\n",
    "#add the batch dimension to test image since images were trained in batches\n",
    "test_image = np.expand_dims(test_image, axis=0)\n",
    "result = cnn.predict(test_image)\n",
    "print(training_set.class_indices)\n",
    "\n",
    "#in result[0][0] the first index represents the batch and the second index represents the actual prediction\n",
    "if result[0][0] > 0.5:\n",
    "    prediction = 'dog'\n",
    "else:\n",
    "    prediction = 'cat'\n",
    "\n",
    "print(prediction)"
   ]
  },
  {
   "cell_type": "code",
   "execution_count": null,
   "id": "studied-overall",
   "metadata": {},
   "outputs": [],
   "source": []
  }
 ],
 "metadata": {
  "kernelspec": {
   "display_name": "Python 3",
   "language": "python",
   "name": "python3"
  },
  "language_info": {
   "codemirror_mode": {
    "name": "ipython",
    "version": 3
   },
   "file_extension": ".py",
   "mimetype": "text/x-python",
   "name": "python",
   "nbconvert_exporter": "python",
   "pygments_lexer": "ipython3",
   "version": "3.8.5"
  }
 },
 "nbformat": 4,
 "nbformat_minor": 5
}
